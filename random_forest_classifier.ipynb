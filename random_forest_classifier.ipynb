{
 "cells": [
  {
   "cell_type": "code",
   "execution_count": 32,
   "id": "8695a197",
   "metadata": {},
   "outputs": [],
   "source": [
    "import numpy as np\n",
    "import matplotlib.pyplot as plt\n",
    "from sklearn.preprocessing import StandardScaler\n",
    "from sklearn.metrics import mean_squared_error, confusion_matrix, ConfusionMatrixDisplay\n",
    "import pandas as pd\n",
    "import tensorflow as tf\n",
    "from sklearn.ensemble import RandomForestClassifier\n",
    "from sklearn.metrics import accuracy_score, confusion_matrix\n",
    "from sklearn.compose import ColumnTransformer\n",
    "from sklearn.preprocessing import OneHotEncoder\n",
    "from sklearn.pipeline import Pipeline\n",
    "from sklearn.model_selection import train_test_split\n",
    "\n",
    "def load_data(filepath, target_column):\n",
    "    df = pd.read_csv(filepath)\n",
    "    X = df.drop(columns=[target_column])\n",
    "    y = df[target_column]\n",
    "    return X, y\n",
    "\n",
    "\n",
    "train_filepath = \"data_for_other_models_train.xls\"\n",
    "test_filepath = \"data_for_other_models_test.xls\"\n",
    "target_column = \"log_price\"\n",
    "\n",
    "X_train, y_train = load_data(train_filepath, target_column)\n",
    "X_test, y_test = load_data(test_filepath, target_column)"
   ]
  },
  {
   "cell_type": "code",
   "execution_count": 34,
   "id": "342bec8f",
   "metadata": {},
   "outputs": [],
   "source": [
    "categorical_columns = ['property_type', 'room_type', 'bed_type', 'cancellation_policy', 'zipcode']\n",
    "\n",
    "# Replace '1m' with NaN in categorical columns\n",
    "X_train[categorical_columns] = X_train[categorical_columns].replace('1m', np.nan)\n",
    "X_test[categorical_columns] = X_test[categorical_columns].replace('1m', np.nan)\n",
    "\n",
    "# Fill missing values in categorical columns with the most frequent value (mode)\n",
    "for col in categorical_columns:\n",
    "    X_train[col] = X_train[col].fillna(X_train[col].mode()[0])\n",
    "    X_test[col] = X_test[col].fillna(X_train[col].mode()[0])  # Use the mode from X_train for consistency\n",
    "\n",
    "# Identify numerical columns (excluding categorical columns)\n",
    "numerical_columns = X_train.select_dtypes(include=['int64', 'float64']).columns\n",
    "\n",
    "# Define the column transformer with both categorical and numerical preprocessing\n",
    "preprocessor = ColumnTransformer(\n",
    "    transformers=[\n",
    "        ('cat', OneHotEncoder(handle_unknown='ignore'), categorical_columns),  # Handle unknown categories\n",
    "        ('num', StandardScaler(), numerical_columns)  # Apply scaling to numerical columns\n",
    "    ])\n",
    "\n",
    "# Create a pipeline that first applies the column transformer (preprocessing)\n",
    "pipeline = Pipeline(steps=[\n",
    "    ('preprocessor', preprocessor)  # Apply column transformations\n",
    "])\n",
    "\n",
    "# Transform the data\n",
    "X_train_scaled = pipeline.fit_transform(X_train)\n",
    "X_test_scaled = pipeline.transform(X_test)"
   ]
  },
  {
   "cell_type": "code",
   "execution_count": 35,
   "id": "6108f004",
   "metadata": {},
   "outputs": [
    {
     "name": "stdout",
     "output_type": "stream",
     "text": [
      "Index(['property_type', 'room_type', 'accommodates', 'bathrooms', 'bed_type',\n",
      "       'cancellation_policy', 'cleaning_fee', 'host_identity_verified',\n",
      "       'host_response_rate', 'instant_bookable', 'zipcode', 'bedrooms', 'beds',\n",
      "       'Waterfront', 'Washer / Dryer', 'Pets allowed', 'Wireless Internet',\n",
      "       'Air conditioning', 'Family/kid friendly', 'Dishwasher', 'Kitchen',\n",
      "       'Beachfront', 'Heating', 'TV', 'Pool', 'num_years_hosting',\n",
      "       'distance_to_Times_Square', 'distance_to_Empire_State_Building',\n",
      "       'distance_to_Statue_of_Liberty', 'distance_to_Central_Park',\n",
      "       'distance_to_JFK_Airport'],\n",
      "      dtype='object')\n"
     ]
    }
   ],
   "source": [
    "print(X_train.columns)"
   ]
  },
  {
   "cell_type": "code",
   "execution_count": 51,
   "id": "9ac20fc3",
   "metadata": {},
   "outputs": [
    {
     "name": "stdout",
     "output_type": "stream",
     "text": [
      "['Low' 'Low' 'Low' 'High' 'High' 'Low' 'High' 'Low' 'Low' 'Medium']\n",
      "0       Low\n",
      "1       Low\n",
      "2       Low\n",
      "3      High\n",
      "4      High\n",
      "5       Low\n",
      "6      High\n",
      "7       Low\n",
      "8    Medium\n",
      "9    Medium\n",
      "Name: log_price, dtype: object\n"
     ]
    }
   ],
   "source": [
    "print(y_pred_test[:10])  # Show the first 10 predictions\n",
    "print(y_test[:10]) "
   ]
  },
  {
   "cell_type": "code",
   "execution_count": 46,
   "id": "23e09c5c",
   "metadata": {},
   "outputs": [
    {
     "name": "stdout",
     "output_type": "stream",
     "text": [
      "Training Accuracy: 99.83%\n",
      "Test Accuracy: 73.62%\n"
     ]
    },
    {
     "data": {
      "image/png": "[encoded data removed]",
      "text/plain": [
       "<Figure size 1000x600 with 1 Axes>"
      ]
     },
     "metadata": {},
     "output_type": "display_data"
    }
   ],
   "source": [
    "categorical_columns = ['property_type', 'room_type', 'bed_type', 'cancellation_policy', 'zipcode']\n",
    "numerical_columns = X_train.select_dtypes(include=['int64', 'float64']).columns\n",
    "\n",
    "# Handle missing values in categorical columns\n",
    "X_train[categorical_columns] = X_train[categorical_columns].replace('1m', np.nan)\n",
    "X_test[categorical_columns] = X_test[categorical_columns].replace('1m', np.nan)\n",
    "\n",
    "# Fill missing values with the mode of each column\n",
    "for col in categorical_columns:\n",
    "    X_train[col] = X_train[col].fillna(X_train[col].mode()[0])\n",
    "    X_test[col] = X_test[col].fillna(X_train[col].mode()[0])\n",
    "    \n",
    "# Fill missing values in the 'bathrooms' column with the median value\n",
    "X_train['bathrooms'] = X_train['bathrooms'].fillna(X_train['bathrooms'].median())\n",
    "X_test['bathrooms'] = X_test['bathrooms'].fillna(X_train['bathrooms'].median())  # Use median from X_train for consistency\n",
    "\n",
    "# Define the column transformer with both categorical and numerical preprocessing\n",
    "preprocessor = ColumnTransformer(\n",
    "    transformers=[\n",
    "        ('cat', OneHotEncoder(handle_unknown='ignore'), categorical_columns),\n",
    "        ('num', StandardScaler(), numerical_columns)\n",
    "    ])\n",
    "\n",
    "# Create the pipeline with preprocessing and model\n",
    "pipeline = Pipeline(steps=[\n",
    "    ('preprocessor', preprocessor),\n",
    "    ('classifier', RandomForestClassifier(n_estimators=200, random_state=42))\n",
    "])\n",
    "\n",
    "# Fit the pipeline to the training data\n",
    "pipeline.fit(X_train, y_train)\n",
    "\n",
    "# Make predictions on training and test data\n",
    "y_pred_train = pipeline.predict(X_train)\n",
    "y_pred_test = pipeline.predict(X_test)\n",
    "\n",
    "# Calculate accuracy for training and test sets\n",
    "train_accuracy = accuracy_score(y_train, y_pred_train)\n",
    "test_accuracy = accuracy_score(y_test, y_pred_test)\n",
    "\n",
    "# Print the results\n",
    "print(f\"Training Accuracy: {train_accuracy * 100:.2f}%\")\n",
    "print(f\"Test Accuracy: {test_accuracy * 100:.2f}%\")\n",
    "\n",
    "# Feature Importances from the RandomForestClassifier\n",
    "model = pipeline.named_steps['classifier']\n",
    "feature_importances = model.feature_importances_\n",
    "plt.figure(figsize=(10, 6))\n",
    "plt.barh(range(len(feature_importances)), feature_importances)\n",
    "plt.xlabel(\"Feature Importance\")\n",
    "plt.title(\"Feature Importances\")\n",
    "plt.show()"
   ]
  },
  {
   "cell_type": "code",
   "execution_count": null,
   "id": "08f600ce",
   "metadata": {},
   "outputs": [],
   "source": [
    "import numpy as np\n",
    "import matplotlib.pyplot as plt\n",
    "from sklearn.ensemble import RandomForestClassifier\n",
    "from sklearn.metrics import accuracy_score\n",
    "\n",
    "# List to store test accuracies\n",
    "max_depth_values = range(1, 21)  # Test depths from 1 to 20\n",
    "test_accuracies = []\n",
    "\n",
    "# Loop over different depths\n",
    "for depth in max_depth_values:\n",
    "    # Initialize the RandomForestClassifier with varying max_depth\n",
    "    classifier = RandomForestClassifier(n_estimators=200, max_depth=depth, random_state=42)\n",
    "    \n",
    "    # Train the model\n",
    "    classifier.fit(X_train_scaled, y_train)\n",
    "    \n",
    "    # Make predictions on the test set\n",
    "    y_pred_test = classifier.predict(X_test_scaled)\n",
    "    \n",
    "    # Calculate and store test accuracy\n",
    "    accuracy = accuracy_score(y_test, y_pred_test)\n",
    "    test_accuracies.append(accuracy)\n",
    "\n",
    "# Plot the results\n",
    "plt.figure(figsize=(10, 6))\n",
    "plt.plot(max_depth_values, test_accuracies, marker='o', linestyle='-', color='b')\n",
    "plt.title(\"Accuracy vs Max Depth of Random Forest Classifier\")\n",
    "plt.xlabel(\"Max Depth\")\n",
    "plt.ylabel(\"Test Accuracy\")\n",
    "plt.grid(True)\n",
    "plt.xticks(max_depth_values)\n",
    "plt.show()"
   ]
  }
 ],
 "metadata": {
  "kernelspec": {
   "display_name": "Python 3 (ipykernel)",
   "language": "python",
   "name": "python3"
  },
  "language_info": {
   "codemirror_mode": {
    "name": "ipython",
    "version": 3
   },
   "file_extension": ".py",
   "mimetype": "text/x-python",
   "name": "python",
   "nbconvert_exporter": "python",
   "pygments_lexer": "ipython3",
   "version": "3.9.13"
  }
 },
 "nbformat": 4,
 "nbformat_minor": 5
}
