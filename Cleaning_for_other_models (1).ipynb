{
 "cells": [
  {
   "cell_type": "code",
   "execution_count": 2,
   "id": "f717ee8b-8d35-4f66-8465-3c3347c916ce",
   "metadata": {},
   "outputs": [
    {
     "name": "stdout",
     "output_type": "stream",
     "text": [
      "Collecting haversine\n",
      "  Using cached haversine-2.8.1-py2.py3-none-any.whl.metadata (5.9 kB)\n",
      "Using cached haversine-2.8.1-py2.py3-none-any.whl (7.7 kB)\n",
      "Installing collected packages: haversine\n",
      "Successfully installed haversine-2.8.1\n",
      "Note: you may need to restart the kernel to use updated packages.\n"
     ]
    }
   ],
   "source": [
    "pip install haversine"
   ]
  },
  {
   "cell_type": "code",
   "execution_count": 344,
   "id": "bd467f78",
   "metadata": {},
   "outputs": [],
   "source": [
    "import pandas as pd\n",
    "import numpy as np\n",
    "from datetime import datetime\n",
    "from haversine import haversine\n",
    "import math"
   ]
  },
  {
   "cell_type": "code",
   "execution_count": 346,
   "id": "41c214d1-8efa-40cb-9c9d-38572749174f",
   "metadata": {},
   "outputs": [
    {
     "name": "stdout",
     "output_type": "stream",
     "text": [
      "Index(['id', 'log_price', 'property_type', 'room_type', 'amenities',\n",
      "       'accommodates', 'bathrooms', 'bed_type', 'cancellation_policy',\n",
      "       'cleaning_fee', 'city', 'description', 'first_review',\n",
      "       'host_has_profile_pic', 'host_identity_verified', 'host_response_rate',\n",
      "       'host_since', 'instant_bookable', 'last_review', 'latitude',\n",
      "       'longitude', 'name', 'neighbourhood', 'number_of_reviews',\n",
      "       'review_scores_rating', 'thumbnail_url', 'zipcode', 'bedrooms', 'beds'],\n",
      "      dtype='object')\n"
     ]
    }
   ],
   "source": [
    "df = pd.read_csv('Airbnb_Data.csv')\n",
    "df = df[df['city'] == 'NYC']\n",
    "print(df.columns)"
   ]
  },
  {
   "cell_type": "code",
   "execution_count": null,
   "id": "c45b8b01-8e30-4d9b-87c4-fdca8a68ccdb",
   "metadata": {},
   "outputs": [],
   "source": []
  },
  {
   "cell_type": "code",
   "execution_count": 348,
   "id": "809e3789-5daa-4468-921b-86512f584c50",
   "metadata": {},
   "outputs": [],
   "source": [
    "### CLEANING ###"
   ]
  },
  {
   "cell_type": "code",
   "execution_count": null,
   "id": "630865b5-7b2d-46c5-afe5-a2e4bd5e3235",
   "metadata": {},
   "outputs": [],
   "source": []
  },
  {
   "cell_type": "code",
   "execution_count": 350,
   "id": "44f98c59-f35f-4a58-8a3b-238deef0c42f",
   "metadata": {},
   "outputs": [],
   "source": [
    "df = df[['log_price', 'property_type', 'room_type', 'amenities',\n",
    "       'accommodates', 'bathrooms', 'bed_type', 'cancellation_policy',\n",
    "       'cleaning_fee', 'host_identity_verified', 'host_response_rate',\n",
    "       'host_since', 'instant_bookable', 'latitude',\n",
    "       'longitude', 'number_of_reviews', 'review_scores_rating',\n",
    "        'zipcode', 'bedrooms', 'beds']]"
   ]
  },
  {
   "cell_type": "code",
   "execution_count": null,
   "id": "ba64ce98-3439-4a8a-a62c-b55249392b98",
   "metadata": {},
   "outputs": [],
   "source": []
  },
  {
   "cell_type": "code",
   "execution_count": null,
   "id": "1f2df201-7457-4250-b615-e68697bef101",
   "metadata": {},
   "outputs": [],
   "source": []
  },
  {
   "cell_type": "code",
   "execution_count": 353,
   "id": "e0d2e8b2",
   "metadata": {},
   "outputs": [
    {
     "name": "stdout",
     "output_type": "stream",
     "text": [
      "Index(['log_price', 'property_type', 'room_type', 'accommodates', 'bathrooms',\n",
      "       'bed_type', 'cancellation_policy', 'cleaning_fee',\n",
      "       'host_identity_verified', 'host_response_rate', 'host_since',\n",
      "       'instant_bookable', 'latitude', 'longitude', 'number_of_reviews',\n",
      "       'review_scores_rating', 'zipcode', 'bedrooms', 'beds', 'Waterfront',\n",
      "       'Washer / Dryer', 'Pets allowed', 'Wireless Internet',\n",
      "       'Air conditioning', 'Family/kid friendly', 'Dishwasher', 'Kitchen',\n",
      "       'Beachfront', 'Heating', 'TV', 'Pool'],\n",
      "      dtype='object')\n"
     ]
    }
   ],
   "source": [
    "# Desired unique amenities:\n",
    "desired_unique_amenities = ['Waterfront', 'Washer / Dryer', 'Pets allowed', 'Wireless Internet', \n",
    " 'Air conditioning', 'Family/kid friendly', 'Dishwasher', 'Kitchen', \n",
    " 'Beachfront', 'Heating', 'TV', 'Pool']\n",
    "\n",
    "# FUNCTION amenities_one_hot\n",
    "# Performs one hot on the amenities column\n",
    "def amenities_one_hot(dataframe, desired_amenities, column='amenities'):\n",
    "    # Initialize new columns for each desired amenity with a default value of 0\n",
    "    for amenity in desired_amenities:\n",
    "        dataframe[amenity] = 0\n",
    "\n",
    "    # Use apply to set the value of each amenity column to 1 if it's in the list of amenities for that row\n",
    "    def set_amenity_flags(amenities_list):\n",
    "        for amenity in amenities_list:\n",
    "            if amenity in desired_amenities:\n",
    "                dataframe.loc[dataframe.index, amenity] = 1\n",
    "    \n",
    "    dataframe[column].apply(set_amenity_flags)\n",
    "    \n",
    "    return dataframe\n",
    "\n",
    "df = amenities_one_hot(df, desired_unique_amenities)\n",
    "df = df.drop(columns=['amenities'])\n",
    "\n",
    "print(df.columns)"
   ]
  },
  {
   "cell_type": "code",
   "execution_count": 354,
   "id": "9ce9f1af",
   "metadata": {},
   "outputs": [],
   "source": [
    "# FUNCTION boolean_encode\n",
    "# Encodes boolean with True = 1, False = 0\n",
    "def boolean_encode(dataframe, column, t = 't'):\n",
    "    # Drop NaN values\n",
    "    dataframe = dataframe.dropna(subset=[column])\n",
    "    \n",
    "    dataframe[column] = dataframe[column].apply(lambda value: 1 if value == True or value == t else 0)\n",
    "    \n",
    "    return dataframe"
   ]
  },
  {
   "cell_type": "code",
   "execution_count": 355,
   "id": "fbb586fe-f08b-4603-a9de-ad5c5da8588f",
   "metadata": {},
   "outputs": [],
   "source": [
    "# FUNCTION fix_host_response_rate\n",
    "# Fixes the string percentages into doubles\n",
    "def fix_host_response_rate(dataframe, column = 'host_response_rate'):\n",
    "    dataframe = dataframe.dropna(subset=[column])\n",
    "    \n",
    "    # Remove '%' symbol, convert to float, and divide by 100\n",
    "    dataframe[column] = dataframe[column].str.replace('%', '', regex=False).astype(float) / 100\n",
    "    \n",
    "    # Round to a single decimal place\n",
    "    dataframe[column] = dataframe[column].round(1)\n",
    "    \n",
    "    return dataframe"
   ]
  },
  {
   "cell_type": "code",
   "execution_count": 356,
   "id": "f9c269e0-f7c3-4a5d-8273-f8e9eb38f512",
   "metadata": {},
   "outputs": [],
   "source": [
    "# FUNCTION find_num_years_hosting\n",
    "# Finds the number of years a host has been hosting\n",
    "def find_num_years_hosting(dataframe, column = 'host_since'):\n",
    "    dataframe[column] = pd.to_datetime(dataframe[column])\n",
    "    current_year = datetime.now().year\n",
    "    \n",
    "    dataframe['num_years_hosting'] = current_year - dataframe[column].dt.year\n",
    "    \n",
    "    dataframe.drop(columns=[column], inplace=True)\n",
    "\n",
    "    return dataframe"
   ]
  },
  {
   "cell_type": "code",
   "execution_count": 357,
   "id": "4a172ad3-9841-405c-a6a4-1b2f9ef9cae6",
   "metadata": {},
   "outputs": [],
   "source": [
    "def haversine(lat1, lon1, lat2, lon2):\n",
    "    R = 6371.0  # Radius of the Earth in kilometers\n",
    "    dlat = math.radians(lat2 - lat1)\n",
    "    dlon = math.radians(lon2 - lon1)\n",
    "    a = math.sin(dlat / 2) ** 2 + math.cos(math.radians(lat1)) * math.cos(math.radians(lat2)) * math.sin(dlon / 2) ** 2\n",
    "    c = 2 * math.atan2(math.sqrt(a), math.sqrt(1 - a))\n",
    "    distance = R * c  # Distance in kilometers\n",
    "    return distance\n",
    "\n",
    "# FUNCTION find_distance_to_landmarks\n",
    "# Finds the distance from an air_bnb to each landmark\n",
    "def find_distance_to_landmarks(dataframe, landmarks, lat_column='latitude', lon_column='longitude'):\n",
    "    # Iterate through landmarks\n",
    "    for landmark in landmarks:\n",
    "        column_name = \"distance_to_\" + landmark[0]\n",
    "        \n",
    "        # Calculate distance to each landmark for each row in the DataFrame\n",
    "        distances = []\n",
    "        for index, row in dataframe.iterrows():\n",
    "            distance = haversine(row[lat_column], row[lon_column], landmark[1], landmark[2])\n",
    "            distances.append(distance)\n",
    "        \n",
    "        # Assign distances to the new column in the DataFrame\n",
    "        dataframe[column_name] = np.round(distances,0)\n",
    "\n",
    "    return dataframe"
   ]
  },
  {
   "cell_type": "code",
   "execution_count": 358,
   "id": "ea6a90a8-4bdd-4d69-8525-2b1a5e95a601",
   "metadata": {},
   "outputs": [],
   "source": [
    "# FUNCTION fix_zip_codes\n",
    "# Function to remove any rows where the 'zipcode' column has more \n",
    "# than five chars\n",
    "def fix_zip_codes(dataframe, column='zipcode'):\n",
    "    dataframe = dataframe.dropna(subset=[column])\n",
    "    dataframe = dataframe[dataframe[column].str.len() <= 5]\n",
    "    \n",
    "    return dataframe"
   ]
  },
  {
   "cell_type": "code",
   "execution_count": 359,
   "id": "0c6c6792-b76e-431a-9dc5-81289da04f8a",
   "metadata": {},
   "outputs": [],
   "source": [
    "#####################################################\n",
    "# EXECUTION\n",
    "#####################################################"
   ]
  },
  {
   "cell_type": "code",
   "execution_count": 360,
   "id": "237ed5aa-ba87-42d3-acc3-487be363b786",
   "metadata": {},
   "outputs": [
    {
     "name": "stderr",
     "output_type": "stream",
     "text": [
      "C:\\Users\\roman\\AppData\\Local\\Temp\\ipykernel_6816\\3017023220.py:7: SettingWithCopyWarning: \n",
      "A value is trying to be set on a copy of a slice from a DataFrame.\n",
      "Try using .loc[row_indexer,col_indexer] = value instead\n",
      "\n",
      "See the caveats in the documentation: https://pandas.pydata.org/pandas-docs/stable/user_guide/indexing.html#returning-a-view-versus-a-copy\n",
      "  dataframe[column] = dataframe[column].apply(lambda value: 1 if value == True or value == t else 0)\n"
     ]
    }
   ],
   "source": [
    "######################################################\n",
    "# BOOLEAN ENCODINGS\n",
    "######################################################\n",
    "# One-hot-encode 'cleaning_fee'\n",
    "df = boolean_encode(df, 'cleaning_fee')\n",
    "\n",
    "# One-hot-encode 'host_identity_verified'\n",
    "df = boolean_encode(df, 'host_identity_verified')\n",
    "\n",
    "df = boolean_encode(df, 'instant_bookable')\n",
    "######################################################"
   ]
  },
  {
   "cell_type": "code",
   "execution_count": 361,
   "id": "fdd534ed-eb63-454e-92ed-84465c5fbff0",
   "metadata": {},
   "outputs": [
    {
     "name": "stderr",
     "output_type": "stream",
     "text": [
      "C:\\Users\\roman\\AppData\\Local\\Temp\\ipykernel_6816\\3321886308.py:7: SettingWithCopyWarning: \n",
      "A value is trying to be set on a copy of a slice from a DataFrame.\n",
      "Try using .loc[row_indexer,col_indexer] = value instead\n",
      "\n",
      "See the caveats in the documentation: https://pandas.pydata.org/pandas-docs/stable/user_guide/indexing.html#returning-a-view-versus-a-copy\n",
      "  dataframe[column] = dataframe[column].str.replace('%', '', regex=False).astype(float) / 100\n",
      "C:\\Users\\roman\\AppData\\Local\\Temp\\ipykernel_6816\\3321886308.py:10: SettingWithCopyWarning: \n",
      "A value is trying to be set on a copy of a slice from a DataFrame.\n",
      "Try using .loc[row_indexer,col_indexer] = value instead\n",
      "\n",
      "See the caveats in the documentation: https://pandas.pydata.org/pandas-docs/stable/user_guide/indexing.html#returning-a-view-versus-a-copy\n",
      "  dataframe[column] = dataframe[column].round(1)\n"
     ]
    }
   ],
   "source": [
    "######################################################\n",
    "# fix host_response rate\n",
    "######################################################\n",
    "df = fix_host_response_rate(df)\n",
    "######################################################"
   ]
  },
  {
   "cell_type": "code",
   "execution_count": 362,
   "id": "9bb13e18-dec9-403a-823c-3b0c191cfa87",
   "metadata": {},
   "outputs": [],
   "source": [
    "######################################################\n",
    "# Find number of years a host has been hosting\n",
    "######################################################\n",
    "df = find_num_years_hosting(df)\n",
    "######################################################"
   ]
  },
  {
   "cell_type": "code",
   "execution_count": 363,
   "id": "4339f7af-d4ea-40e6-9812-047a917461d3",
   "metadata": {},
   "outputs": [],
   "source": [
    "landmarks = [('Times_Square', 40.758896, -73.985130), \n",
    "             ('Empire_State_Building', 40.7484, -73.9857),\n",
    "             ('Statue_of_Liberty', 40.6892, -74.0445),\n",
    "             ('Central_Park',40.7826, -73.9656),\n",
    "             ('JFK_Airport', 40.6446, -73.7797)]\n",
    "\n",
    "######################################################\n",
    "# Find the distance of each airBnB to every landmark in\n",
    "# kilometers\n",
    "######################################################\n",
    "df = find_distance_to_landmarks(df, landmarks)\n",
    "######################################################\n",
    "\n",
    "df = df.drop(columns=['latitude'])\n",
    "df = df.drop(columns=['longitude'])"
   ]
  },
  {
   "cell_type": "code",
   "execution_count": 364,
   "id": "8345bcc7-8dd2-4a30-844d-773a46d4166f",
   "metadata": {},
   "outputs": [],
   "source": [
    "df = fix_zip_codes(df)\n",
    "\n",
    "######################################################\n",
    "# Drop all rows where 'zipcode' has more than five chars\n",
    "######################################################\n",
    "df = fix_zip_codes(df)\n",
    "######################################################"
   ]
  },
  {
   "cell_type": "code",
   "execution_count": 365,
   "id": "57abe197-2836-4423-9a4f-5ec4c7a233d9",
   "metadata": {},
   "outputs": [],
   "source": [
    "# Drop rows with NaN's in bedrooms, beds, accommodates, or log_price columns\n",
    "df = df.dropna(subset=['bedrooms', 'beds', 'accommodates', 'log_price'])"
   ]
  },
  {
   "cell_type": "code",
   "execution_count": 366,
   "id": "0d4d8ab7-5d40-4b5b-8032-ae57846e40b2",
   "metadata": {},
   "outputs": [],
   "source": [
    "percentile_33 = df['log_price'].quantile(0.33)\n",
    "percentile_66 = df['log_price'].quantile(0.66)\n",
    "\n",
    "# Set values above the 66th percentile to 'High', \n",
    "# between the 33rd and 66th percentiles to 'Medium',\n",
    "# and below the 33rd percentile to 'Low'\n",
    "df['log_price'] = df['log_price'].apply(lambda x: 'High' if x > percentile_66 else ('Medium' if x > percentile_33 else 'Low'))"
   ]
  },
  {
   "cell_type": "code",
   "execution_count": 367,
   "id": "75d24125-b59e-429c-b6a9-c5e61ce7bb46",
   "metadata": {},
   "outputs": [],
   "source": [
    "# Drop unneccessary columns:\n",
    "df = df.drop(columns=['number_of_reviews', 'review_scores_rating'])"
   ]
  },
  {
   "cell_type": "code",
   "execution_count": 368,
   "id": "8c99d96e-aebf-4165-b741-6fd473ed9490",
   "metadata": {},
   "outputs": [
    {
     "name": "stdout",
     "output_type": "stream",
     "text": [
      "16270\n"
     ]
    }
   ],
   "source": [
    "print(len(df))"
   ]
  },
  {
   "cell_type": "code",
   "execution_count": 369,
   "id": "3581142e-2b76-4c7f-ae7c-a8b180233edf",
   "metadata": {},
   "outputs": [
    {
     "name": "stdout",
     "output_type": "stream",
     "text": [
      "(16270, 32)\n"
     ]
    }
   ],
   "source": [
    "print(df.shape)"
   ]
  },
  {
   "cell_type": "code",
   "execution_count": 370,
   "id": "9b4ccee9-48ef-4bd1-92a0-0b196bbc3ca5",
   "metadata": {},
   "outputs": [
    {
     "name": "stdout",
     "output_type": "stream",
     "text": [
      "(16270, 32)\n"
     ]
    }
   ],
   "source": [
    "print(df.shape)"
   ]
  },
  {
   "cell_type": "code",
   "execution_count": 371,
   "id": "66940fc2-bd2d-457a-b7f9-350780c3a020",
   "metadata": {},
   "outputs": [
    {
     "name": "stdout",
     "output_type": "stream",
     "text": [
      "Index(['log_price', 'property_type', 'room_type', 'accommodates', 'bathrooms',\n",
      "       'bed_type', 'cancellation_policy', 'cleaning_fee',\n",
      "       'host_identity_verified', 'host_response_rate', 'instant_bookable',\n",
      "       'zipcode', 'bedrooms', 'beds', 'Waterfront', 'Washer / Dryer',\n",
      "       'Pets allowed', 'Wireless Internet', 'Air conditioning',\n",
      "       'Family/kid friendly', 'Dishwasher', 'Kitchen', 'Beachfront', 'Heating',\n",
      "       'TV', 'Pool', 'num_years_hosting', 'distance_to_Times_Square',\n",
      "       'distance_to_Empire_State_Building', 'distance_to_Statue_of_Liberty',\n",
      "       'distance_to_Central_Park', 'distance_to_JFK_Airport'],\n",
      "      dtype='object')\n"
     ]
    }
   ],
   "source": [
    "print(df.columns)"
   ]
  },
  {
   "cell_type": "code",
   "execution_count": 372,
   "id": "f51fc110-bb0b-4a5b-97a9-243a88ea992e",
   "metadata": {},
   "outputs": [],
   "source": [
    "split_index = int(len(df) * 0.75)\n",
    "    \n",
    "# First 75% of rows\n",
    "df_train = df.iloc[:split_index]\n",
    "\n",
    "# Remaining 25% of rows\n",
    "df_test = df.iloc[split_index:]"
   ]
  },
  {
   "cell_type": "code",
   "execution_count": 373,
   "id": "f6b052fd-9bfa-496e-8de8-4f3ba49011b4",
   "metadata": {},
   "outputs": [
    {
     "name": "stdout",
     "output_type": "stream",
     "text": [
      "(12202, 32)\n",
      "(4068, 32)\n"
     ]
    }
   ],
   "source": [
    "print(df_train.shape)\n",
    "print(df_test.shape)"
   ]
  },
  {
   "cell_type": "code",
   "execution_count": 374,
   "id": "292232a3-1c76-4a9c-a350-46d81ba28afe",
   "metadata": {},
   "outputs": [],
   "source": [
    "df_train.to_csv('data_for_other_models_train.csv', index = False)\n",
    "df_test.to_csv('data_for_other_models_test.csv', index = False)"
   ]
  },
  {
   "cell_type": "code",
   "execution_count": null,
   "id": "cc27f614-3a99-41e0-a4d3-436d5b2d3d62",
   "metadata": {},
   "outputs": [],
   "source": []
  },
  {
   "cell_type": "code",
   "execution_count": null,
   "id": "01c63e25-478e-4f5e-8928-0822f2c5e349",
   "metadata": {},
   "outputs": [],
   "source": []
  }
 ],
 "metadata": {
  "kernelspec": {
   "display_name": "Python 3 (ipykernel)",
   "language": "python",
   "name": "python3"
  },
  "language_info": {
   "codemirror_mode": {
    "name": "ipython",
    "version": 3
   },
   "file_extension": ".py",
   "mimetype": "text/x-python",
   "name": "python",
   "nbconvert_exporter": "python",
   "pygments_lexer": "ipython3",
   "version": "3.12.7"
  }
 },
 "nbformat": 4,
 "nbformat_minor": 5
}
