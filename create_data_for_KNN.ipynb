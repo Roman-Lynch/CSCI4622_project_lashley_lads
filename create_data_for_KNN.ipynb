{
 "cells": [
  {
   "cell_type": "code",
   "execution_count": 131,
   "id": "1c3b6a74",
   "metadata": {},
   "outputs": [],
   "source": [
    "import pandas as pd\n",
    "import numpy as np\n",
    "from datetime import datetime\n",
    "from haversine import haversine\n",
    "import math"
   ]
  },
  {
   "cell_type": "code",
   "execution_count": 132,
   "id": "4d9a705d",
   "metadata": {},
   "outputs": [
    {
     "name": "stdout",
     "output_type": "stream",
     "text": [
      "Index(['id', 'log_price', 'property_type', 'room_type', 'amenities',\n",
      "       'accommodates', 'bathrooms', 'bed_type', 'cancellation_policy',\n",
      "       'cleaning_fee', 'city', 'description', 'first_review',\n",
      "       'host_has_profile_pic', 'host_identity_verified', 'host_response_rate',\n",
      "       'host_since', 'instant_bookable', 'last_review', 'latitude',\n",
      "       'longitude', 'name', 'neighbourhood', 'number_of_reviews',\n",
      "       'review_scores_rating', 'thumbnail_url', 'zipcode', 'bedrooms', 'beds'],\n",
      "      dtype='object')\n"
     ]
    }
   ],
   "source": [
    "df = pd.read_csv('Airbnb_Data.csv')\n",
    "df = df[df['city'] == 'NYC']\n",
    "print(df.columns)"
   ]
  },
  {
   "cell_type": "code",
   "execution_count": 133,
   "id": "49c2cb6a",
   "metadata": {},
   "outputs": [
    {
     "name": "stdout",
     "output_type": "stream",
     "text": [
      "32349\n",
      "          id  log_price property_type        room_type  \\\n",
      "0    6901257   5.010635     Apartment  Entire home/apt   \n",
      "1    6304928   5.129899     Apartment  Entire home/apt   \n",
      "2    7919400   4.976734     Apartment  Entire home/apt   \n",
      "10   5578513   4.605170     Apartment     Private room   \n",
      "18  17589436   4.882802     Apartment  Entire home/apt   \n",
      "\n",
      "                                            amenities  accommodates  \\\n",
      "0   {\"Wireless Internet\",\"Air conditioning\",Kitche...             3   \n",
      "1   {\"Wireless Internet\",\"Air conditioning\",Kitche...             7   \n",
      "2   {TV,\"Cable TV\",\"Wireless Internet\",\"Air condit...             5   \n",
      "10  {Internet,\"Wireless Internet\",\"Air conditionin...             2   \n",
      "18  {TV,\"Cable TV\",Internet,\"Wireless Internet\",\"A...             2   \n",
      "\n",
      "    bathrooms  bed_type cancellation_policy  cleaning_fee  ...   latitude  \\\n",
      "0         1.0  Real Bed              strict          True  ...  40.696524   \n",
      "1         1.0  Real Bed              strict          True  ...  40.766115   \n",
      "2         1.0  Real Bed            moderate          True  ...  40.808110   \n",
      "10        1.0  Real Bed              strict          True  ...  40.723883   \n",
      "18        1.0  Real Bed              strict          True  ...  40.719086   \n",
      "\n",
      "    longitude                                      name     neighbourhood  \\\n",
      "0  -73.991617            Beautiful brownstone 1-bedroom  Brooklyn Heights   \n",
      "1  -73.989040  Superb 3BR Apt Located Near Times Square    Hell's Kitchen   \n",
      "2  -73.943756                          The Garden Oasis            Harlem   \n",
      "10 -73.983880        Large East Village Bedroom To Let!     Alphabet City   \n",
      "18 -73.990285         Amazing LES apt - cool, bright...   Lower East Side   \n",
      "\n",
      "   number_of_reviews review_scores_rating  \\\n",
      "0                  2                100.0   \n",
      "1                  6                 93.0   \n",
      "2                 10                 92.0   \n",
      "10                82                 93.0   \n",
      "18                26                 86.0   \n",
      "\n",
      "                                        thumbnail_url  zipcode bedrooms  beds  \n",
      "0   https://a0.muscache.com/im/pictures/6d7cbbf7-c...    11201      1.0   1.0  \n",
      "1   https://a0.muscache.com/im/pictures/348a55fe-4...    10019      3.0   3.0  \n",
      "2   https://a0.muscache.com/im/pictures/6fae5362-9...    10027      1.0   3.0  \n",
      "10  https://a0.muscache.com/im/pictures/21726900/1...  10009.0      1.0   1.0  \n",
      "18                                                NaN    10002      1.0   2.0  \n",
      "\n",
      "[5 rows x 29 columns]\n"
     ]
    }
   ],
   "source": [
    "print(len(df))\n",
    "print(df.head())"
   ]
  },
  {
   "cell_type": "code",
   "execution_count": 134,
   "id": "6937a9f8",
   "metadata": {},
   "outputs": [
    {
     "name": "stdout",
     "output_type": "stream",
     "text": [
      "['Apartment' 'House' 'Loft' 'Hostel' 'Condominium' 'Townhouse' 'Other'\n",
      " 'Bed & Breakfast' 'Timeshare' 'Serviced apartment' 'Guesthouse'\n",
      " 'Bungalow' 'Boutique hotel' 'Guest suite' 'Boat' 'Villa' 'Dorm'\n",
      " 'Vacation home' 'In-law' 'Chalet' 'Yurt' 'Cabin' 'Tent' 'Earth House'\n",
      " 'Castle']\n"
     ]
    }
   ],
   "source": [
    "# One hot encoding\n",
    "print(df['property_type'].unique())"
   ]
  },
  {
   "cell_type": "code",
   "execution_count": 135,
   "id": "0d1f8b25",
   "metadata": {},
   "outputs": [
    {
     "name": "stdout",
     "output_type": "stream",
     "text": [
      "['Entire home/apt' 'Private room' 'Shared room']\n"
     ]
    }
   ],
   "source": [
    "# Should be scaled as such:\n",
    "# 0 - Entire home/apt\n",
    "# 1 - Private room\n",
    "# 2 - Shared room\n",
    "print(df['room_type'].unique())"
   ]
  },
  {
   "cell_type": "code",
   "execution_count": 136,
   "id": "aa0d020d",
   "metadata": {},
   "outputs": [
    {
     "name": "stdout",
     "output_type": "stream",
     "text": [
      "['{\"Wireless Internet\",\"Air conditioning\",Kitchen,Heating,\"Family/kid friendly\",Essentials,\"Hair dryer\",Iron,\"translation missing: en.hosting_amenity_50\"}'\n",
      " '{\"Wireless Internet\",\"Air conditioning\",Kitchen,Heating,\"Family/kid friendly\",Washer,Dryer,\"Smoke detector\",\"Fire extinguisher\",Essentials,Shampoo,Hangers,\"Hair dryer\",Iron,\"translation missing: en.hosting_amenity_50\"}'\n",
      " '{TV,\"Cable TV\",\"Wireless Internet\",\"Air conditioning\",Kitchen,Breakfast,\"Buzzer/wireless intercom\",Heating,\"Family/kid friendly\",\"Smoke detector\",\"Carbon monoxide detector\",\"Fire extinguisher\",Essentials,Shampoo,Hangers,\"Hair dryer\",Iron,\"Laptop friendly workspace\",\"translation missing: en.hosting_amenity_50\"}'\n",
      " ...\n",
      " '{Internet,\"Wireless Internet\",\"Air conditioning\",Kitchen,Elevator,\"Buzzer/wireless intercom\",Heating,\"Family/kid friendly\",Washer,Dryer,\"Smoke detector\",\"Carbon monoxide detector\",\"First aid kit\",\"Fire extinguisher\",Essentials,Shampoo,\"Lock on bedroom door\",\"24-hour check-in\",Hangers,\"Hair dryer\",\"Laptop friendly workspace\",\"Self Check-In\",Lockbox}'\n",
      " '{TV,Internet,\"Wireless Internet\",\"Air conditioning\",Kitchen,Gym,Elevator,\"Buzzer/wireless intercom\",Heating,\"Family/kid friendly\",Washer,Dryer,\"Smoke detector\",\"Carbon monoxide detector\",\"First aid kit\",Essentials,Shampoo,Hangers,\"Hair dryer\",Iron,\"Laptop friendly workspace\",\"Hot water\",\"Bed linens\",Microwave,\"Coffee maker\",Refrigerator,Dishwasher,\"Dishes and silverware\",\"Cooking basics\",Oven,Stove}'\n",
      " '{TV,\"Wireless Internet\",\"Air conditioning\",Kitchen,Heating,Washer,Dryer,\"Smoke detector\",\"Carbon monoxide detector\",Essentials,Shampoo,Hangers,\"Hair dryer\",Iron,\"Laptop friendly workspace\"}']\n"
     ]
    }
   ],
   "source": [
    "# Should be one-hot-encoded:\n",
    "print(df['amenities'].unique())"
   ]
  },
  {
   "cell_type": "code",
   "execution_count": 137,
   "id": "5184f0ef",
   "metadata": {},
   "outputs": [
    {
     "name": "stdout",
     "output_type": "stream",
     "text": [
      "['Real Bed' 'Futon' 'Pull-out Sofa' 'Airbed' 'Couch']\n"
     ]
    }
   ],
   "source": [
    "# Should be scaled as such:\n",
    "# 0 - Real Bed\n",
    "# 1 - Futon\n",
    "# 2 - Pull-out Sofa\n",
    "# 3 - Airbed\n",
    "# 4 - Couch\n",
    "print(df['bed_type'].unique())"
   ]
  },
  {
   "cell_type": "code",
   "execution_count": 138,
   "id": "40ba0eec",
   "metadata": {},
   "outputs": [
    {
     "name": "stdout",
     "output_type": "stream",
     "text": [
      "['strict' 'moderate' 'flexible' 'super_strict_30' 'super_strict_60']\n"
     ]
    }
   ],
   "source": [
    "# Should be scaled as such:\n",
    "# 0 - strict\n",
    "# 1 - moderate\n",
    "# 2 - flexible\n",
    "# 3 - super_strict_30\n",
    "# 4 - super_strict_60\n",
    "print(df['cancellation_policy'].unique())"
   ]
  },
  {
   "cell_type": "code",
   "execution_count": 139,
   "id": "a2467035",
   "metadata": {},
   "outputs": [
    {
     "name": "stdout",
     "output_type": "stream",
     "text": [
      "[ True False]\n"
     ]
    }
   ],
   "source": [
    "# Can stay the same\n",
    "print(df['cleaning_fee'].unique())"
   ]
  },
  {
   "cell_type": "code",
   "execution_count": 140,
   "id": "da031244",
   "metadata": {},
   "outputs": [
    {
     "name": "stdout",
     "output_type": "stream",
     "text": [
      "['Beautiful, sunlit brownstone 1-bedroom in the loveliest neighborhood in Brooklyn. Blocks from the promenade and Brooklyn Bridge Park, with their stunning views of Manhattan, and from the great shopping and food.'\n",
      " \"Enjoy travelling during your stay in Manhattan. My place is centrally located near Times Square and Central Park with easy access to main subways as well as walking distance to many popular restaurants and bus tours. My place is close to the subway, Totto Ramen, Hell's Kitchen, Ippudo Westside, Empanada Mama, Intrepid Sea, Air & Space Museum. My place has three true bedrooms and one bathroom. The kitchen is stocked with stainless steel appliances like the Keurig machine. The living room is spacious and can accommodate another person thanks to the pull out bed. My place is centrally located to some of the top attractions in the city. Feel free to explore the entire apartment and do not worry about sharing the space with any strangers. This is all yours during your stay. I am available via text/email/phone for anything you might need. - Times Square - Rockefeller Plaza - Central Park  - 5th Avenue Shopping  -Broadway Theater District  - Empire State Building  - Hudson River Express Subwa\"\n",
      " \"The Oasis comes complete with a full backyard with outdoor furniture to make the most of this summer vacation!!  The unit has high ceilings, a completed renovation throughout, beautiful flood lighting and exposed brick! Best part, total seclusion. You share with no one! The entire unit is yours during your stay.  It's a fully furnished apartment that can hold up to 5 people. The only items you need are a toothbrush and your luggage!!! The unit has high ceilings, a completed renovation throughout, beautiful flood lighting and exposed brick! Not to mention the large backyard complete with ourdoor furniture.  Best part, total seclusion. You share with no one! The entire unit is yours during your stay. The entire unit and backyard Garden area My assistant is available off site via phone.   Other than that, you will be alone for your stay. The neighborhood of central Harlem is very diverse and full of culture! We are a few blocks from Historic 125th Street, The Apollo Theatre, The Schomburg\"\n",
      " ... 'one room in bushwick apt '\n",
      " \"A modern apartment located in East Williamsburg. It's a place to see everything Brooklyn has to offer, from interesting restaurants, hidden breweries and the region's long-time residents. You can explore the neighborhood, including nearby Bushwick or hop on the subway and be in Manhattan in 10 minutes. The apartment has a rooftop overlooking the city, hardwood floors, a fully stocked kitchen and plenty of space for your group. It's a great modern apartment with all the amenities one could need for a home-away-from-home stay. Located in a part of Williamsburg that's surrounded by cool places but also with plenty of history. You'll have access to my entire apartment, of course, as long with the building facilities. This includes a gym with weights and running machines, a rooftop with furniture and city view, along a recreation room and laundry machines.  There's also an off-street bike rack guests can use. I don't pay for parking, so you'll have to park on the street. It's unpermited and\"\n",
      " \"Fully renovated, designer's studio located in one of the most desirable areas of Manhattan (West Village/Chelsea). Comfortable bed, sofa, 50' TV with Netflix & Amazon Prime, full kitchen with dishwasher and all the necessities for cooking. Apartment is on the 2nd floor (only 1 flight up). Access to everything in the apartment, but nothing should go out of the apartment:) I am always available upon request. I always try to make my guest's experience as pleasant as possible. If you need directions, advice, transportation etc all you need to do is ask.\"]\n"
     ]
    }
   ],
   "source": [
    "# Could perform sentiment analysis or could drop.\n",
    "# I think dropping would be best\n",
    "print(df['description'].unique())"
   ]
  },
  {
   "cell_type": "code",
   "execution_count": 141,
   "id": "63b4e408",
   "metadata": {},
   "outputs": [
    {
     "name": "stdout",
     "output_type": "stream",
     "text": [
      "['2016-06-18' '2017-08-05' '2017-04-30' ... '2010-05-26' '2011-04-22'\n",
      " '2014-02-10']\n"
     ]
    }
   ],
   "source": [
    "# Should drop\n",
    "print(df['first_review'].unique())"
   ]
  },
  {
   "cell_type": "code",
   "execution_count": 142,
   "id": "7e1b5622",
   "metadata": {},
   "outputs": [
    {
     "name": "stdout",
     "output_type": "stream",
     "text": [
      "['t' nan 'f']\n"
     ]
    }
   ],
   "source": [
    "# Should drop\n",
    "print(df['host_has_profile_pic'].unique())"
   ]
  },
  {
   "cell_type": "code",
   "execution_count": 143,
   "id": "30e96061",
   "metadata": {},
   "outputs": [
    {
     "name": "stdout",
     "output_type": "stream",
     "text": [
      "['t' 'f' nan]\n"
     ]
    }
   ],
   "source": [
    "# Should replace with the following:\n",
    "# True: t\n",
    "# False: F or NaN\n",
    "print(df['host_identity_verified'].unique())"
   ]
  },
  {
   "cell_type": "code",
   "execution_count": 144,
   "id": "997c1002",
   "metadata": {},
   "outputs": [
    {
     "name": "stdout",
     "output_type": "stream",
     "text": [
      "[nan '100%' '71%' '68%' '67%' '90%' '86%' '92%' '80%' '89%' '0%' '50%'\n",
      " '70%' '25%' '29%' '93%' '33%' '81%' '63%' '38%' '60%' '88%' '78%' '75%'\n",
      " '95%' '97%' '94%' '40%' '58%' '76%' '91%' '79%' '82%' '30%' '83%' '87%'\n",
      " '99%' '17%' '20%' '77%' '96%' '73%' '98%' '59%' '57%' '64%' '56%' '44%'\n",
      " '74%' '27%' '6%' '85%' '10%' '55%' '43%' '14%' '84%' '46%' '26%' '53%'\n",
      " '65%' '52%' '22%' '69%' '66%' '15%' '61%' '41%' '72%' '54%' '35%' '36%'\n",
      " '62%' '21%' '47%']\n"
     ]
    }
   ],
   "source": [
    "# Should convert to decimals, fill NaN with 0.\n",
    "# Could convert to 'high' and 'low' if less than 50%\n",
    "print(df['host_response_rate'].unique())"
   ]
  },
  {
   "cell_type": "code",
   "execution_count": 145,
   "id": "fc68cdb1",
   "metadata": {},
   "outputs": [
    {
     "name": "stdout",
     "output_type": "stream",
     "text": [
      "['2012-03-26' '2017-06-19' '2016-10-25' ... '2010-05-16' '2010-04-30'\n",
      " '2009-08-23']\n"
     ]
    }
   ],
   "source": [
    "# Should convert to host_status the following:\n",
    "# new - less than a year\n",
    "# regular - 1 to 5 years\n",
    "# verteran - longer than 5 years\n",
    "print(df['host_since'].unique())"
   ]
  },
  {
   "cell_type": "code",
   "execution_count": 146,
   "id": "016b78b6",
   "metadata": {},
   "outputs": [
    {
     "name": "stdout",
     "output_type": "stream",
     "text": [
      "['f' 't']\n"
     ]
    }
   ],
   "source": [
    "# Should convert to:\n",
    "# True - t\n",
    "# False - f\n",
    "print(df['instant_bookable'].unique())"
   ]
  },
  {
   "cell_type": "code",
   "execution_count": 147,
   "id": "6836cd78",
   "metadata": {},
   "outputs": [
    {
     "name": "stdout",
     "output_type": "stream",
     "text": [
      "[40.69652363 40.76611542 40.80810999 ... 40.70902537 40.70674885\n",
      " 40.73853473]\n",
      "[-73.99161685 -73.98903992 -73.94375584 ... -73.93940479 -73.94237732\n",
      " -74.00015737]\n"
     ]
    }
   ],
   "source": [
    "# Should use to determine distance to 4 landmarks using GeoPandas\n",
    "# Empire State building\n",
    "# Statue of Liberty\n",
    "# Time Square\n",
    "# Central Park\n",
    "# JFK Airport\n",
    "# Grand Central station\n",
    "print(df['latitude'].unique())\n",
    "print(df['longitude'].unique())"
   ]
  },
  {
   "cell_type": "code",
   "execution_count": 148,
   "id": "b9512ad7",
   "metadata": {},
   "outputs": [
    {
     "name": "stdout",
     "output_type": "stream",
     "text": [
      "['Beautiful brownstone 1-bedroom'\n",
      " 'Superb 3BR Apt Located Near Times Square' 'The Garden Oasis' ...\n",
      " 'one room bushwick' 'Modern 2 Bedroom Apartment in Williamsburg'\n",
      " \"Designer's Apartment in HEART of NYC\"]\n"
     ]
    }
   ],
   "source": [
    "# Drop\n",
    "print(df['name'].unique())"
   ]
  },
  {
   "cell_type": "code",
   "execution_count": 149,
   "id": "34f902bb",
   "metadata": {},
   "outputs": [
    {
     "name": "stdout",
     "output_type": "stream",
     "text": [
      "['Brooklyn Heights' \"Hell's Kitchen\" 'Harlem' 'Alphabet City'\n",
      " 'Lower East Side' 'Flatbush' 'East Flatbush' 'Jamaica' 'Forest Hills'\n",
      " 'Murray Hill' 'Lefferts Garden' 'Brownsville' 'Williamsburg'\n",
      " 'East Village' 'Upper East Side' 'Bushwick' 'Bedford-Stuyvesant'\n",
      " 'Chelsea' 'Greenwich Village' 'Washington Heights' 'Midtown East'\n",
      " 'Park Slope' 'West Village' 'Astoria' 'East Harlem' 'Morningside Heights'\n",
      " 'Tribeca' 'Financial District' 'Gramercy Park' 'Sunset Park'\n",
      " 'Upper West Side' 'Greenpoint' 'Prospect Heights' 'Gravesend' 'Flushing'\n",
      " 'Midtown' 'Soho' 'Roosevelt Island' 'Soundview' 'Crown Heights' 'Gowanus'\n",
      " 'Boerum Hill' 'Greenwood Heights' 'Chinatown' 'Sunnyside'\n",
      " 'Windsor Terrace' 'Sheepshead Bay' 'Clinton Hill' 'Westerleigh'\n",
      " 'Ridgewood' 'Battery Park City' 'The Rockaways' 'Downtown Brooklyn'\n",
      " 'Midwood' 'Fort Greene' 'Flatiron District' 'Bay Ridge' 'Inwood'\n",
      " 'Kips Bay' 'Eastchester' 'Long Island City' 'Hamilton Heights'\n",
      " 'Carroll Gardens' 'Rego Park' 'Bayside' 'Mott Haven' 'Jackson Heights'\n",
      " 'Hudson Square' 'Marine Park' 'Little Italy' 'Fort Wadsworth'\n",
      " 'Bensonhurst' 'South Street Seaport' 'East New York' 'Union Square'\n",
      " 'Castleton Corners' 'Wakefield' 'Ozone Park' 'Noho' 'Canarsie'\n",
      " 'Columbia Street Waterfront' 'Maspeth' 'Fordham' 'St. George' 'Stapleton'\n",
      " 'Brooklyn Navy Yard' 'Nolita' 'University Heights'\n",
      " 'Times Square/Theatre District' 'Kensington' 'Ditmars / Steinway'\n",
      " 'Mount Eden' 'Flatlands' 'Red Hook' 'Claremont' 'Brighton Beach'\n",
      " 'Woodhaven' 'Civic Center' 'Hunts Point' 'Kew Garden Hills' 'Highbridge'\n",
      " 'Meatpacking District' 'South Ozone Park' 'Middle Village' 'Rosebank'\n",
      " 'Riverdale' 'Oakwood' 'West Brighton' 'Queens' 'Woodside' 'Concord'\n",
      " 'Manhattan Beach' 'East Elmhurst' 'Concourse' 'Dyker Heights'\n",
      " 'Throgs Neck' 'Richmond Hill' 'Tremont' 'Bergen Beach' 'Elmhurst'\n",
      " 'Kingsbridge Heights' 'Van Nest' 'City Island' 'Coney Island'\n",
      " 'Kingsbridge' 'Marble Hill' 'Corona' 'Emerson Hill' 'Morris Heights'\n",
      " 'Baychester' 'Parkchester' 'Whitestone' 'Cobble Hill' 'Bedford Park'\n",
      " 'Pelham Bay' 'Manhattan' 'Concourse Village' 'Utopia' 'Longwood'\n",
      " 'Howard Beach' 'Vinegar Hill' 'Morrisania' 'College Point'\n",
      " 'Fresh Meadows' 'Hillcrest' 'Crotona' 'Tompkinsville' 'Borough Park'\n",
      " 'Glendale' 'Park Versailles' 'Midland Beach' 'Williamsbridge'\n",
      " 'Eltingville' 'Meiers Corners' 'Brooklyn' 'DUMBO' 'Bronxdale' 'Woodlawn'\n",
      " 'The Bronx' 'Grasmere' 'Melrose' 'Allerton' 'Norwood' 'Sea Gate'\n",
      " 'Belmont' 'Grymes Hill' 'Morris Park' 'South Beach' 'Co-op City'\n",
      " 'New Brighton' 'Edenwald' 'Annadale' 'Westchester Village' 'Elm Park'\n",
      " 'Spuyten Duyvil' 'Todt Hill' 'Mariners Harbor' 'West Farms' 'Port Morris'\n",
      " 'Castle Hill ' 'New Springville' 'Port Richmond' 'Randall Manor' nan\n",
      " 'Bath Beach' 'Dongan Hills' 'Huguenot' 'Great Kills' 'Arrochar'\n",
      " 'Mill Basin' 'Graniteville' 'Willowbrook' 'Tottenville' 'Lindenwood'\n",
      " 'Clifton' 'Country Club' 'Lighthouse HIll' 'New Dorp Beach' 'Silver Lake'\n",
      " 'Gerritsen Beach' 'Rossville' 'Grant City']\n"
     ]
    }
   ],
   "source": [
    "# Drop\n",
    "print(df['neighbourhood'].unique())"
   ]
  },
  {
   "cell_type": "code",
   "execution_count": 150,
   "id": "c314c0de",
   "metadata": {},
   "outputs": [
    {
     "name": "stdout",
     "output_type": "stream",
     "text": [
      "[  2   6  10  82  26   5  57  14   4  40   1  17  11   0  34   3  31   9\n",
      "  19  22  23   7 144  38 105  67  16  13  18  15  21  25 206  73  44  27\n",
      " 167  43   8  28  81  12  63  30  42  75  60  52 135  64  36 191  24  66\n",
      "  51  32 125 129  35  70  46  93  45  79  61  20  88  37 127 190  48  69\n",
      "  59  72  54  53 117 101 106 255  47 114  29 192 113  91  49  62  84 146\n",
      " 119  74  39  56  86  33 157  95  94 158  87 142  90 194  55 208 131 111\n",
      " 133 102 148  89 147  85 139 202  71  78  41 159 156 100  65 207 172 136\n",
      "  98 171  80  92 155 193 199 103  77 137 112  76 140  58 120  50 162 110\n",
      " 107 246 195 273 251  83 351 152 116 189 134  96 141 109 118 121 175 104\n",
      "  68 149 383 122 165 115 108 123 163 256 153 323 465 178  99 126 181 132\n",
      " 220 128 154 218 150 182  97 225 198 224 201 288 138 343 306 169 236 173\n",
      " 179 174 209 124 130 252 205 322 143 164 203 197 161 214 145 213 267 227\n",
      " 196 268 269 168 184 242 232 177 151 200 211 264 228 238 217 241 298 326\n",
      " 336 281 240 226 221 296 237 170 260 275 166 160 230 185 318 204 394 286\n",
      " 297 222 183 308 212 243 210 180 176 332 188 215 247 295 244 320 239 266\n",
      " 274 219 235 474 223 187 353 304 186 280 216]\n"
     ]
    }
   ],
   "source": [
    "# Use in conjunction with review_scores_rating somehow\n",
    "print(df['number_of_reviews'].unique())"
   ]
  },
  {
   "cell_type": "code",
   "execution_count": 151,
   "id": "2a928b99",
   "metadata": {},
   "outputs": [
    {
     "name": "stdout",
     "output_type": "stream",
     "text": [
      "[100.  93.  92.  86.  72.  89.  88.  96.  84.  nan  94.  80.  87.  95.\n",
      "  85.  99.  70.  98.  97.  91.  90.  76.  60.  83.  82.  75.  55.  73.\n",
      "  40.  20.  67.  71.  79.  78.  81.  47.  74.  68.  66.  50.  77.  65.\n",
      "  53.  64.  69.  27.  62.  57.  56.  63.]\n"
     ]
    }
   ],
   "source": [
    "# Use in conjunction with review_scores_rating somehow\n",
    "print(df['review_scores_rating'].unique())"
   ]
  },
  {
   "cell_type": "code",
   "execution_count": 152,
   "id": "f8168278",
   "metadata": {},
   "outputs": [
    {
     "name": "stdout",
     "output_type": "stream",
     "text": [
      "['https://a0.muscache.com/im/pictures/6d7cbbf7-c034-459c-bc82-6522c957627c.jpg?aki_policy=small'\n",
      " 'https://a0.muscache.com/im/pictures/348a55fe-4b65-452a-b48a-bfecb3b58a66.jpg?aki_policy=small'\n",
      " 'https://a0.muscache.com/im/pictures/6fae5362-9e3a-4fa9-aa54-bbd5ea26538d.jpg?aki_policy=small'\n",
      " ...\n",
      " 'https://a0.muscache.com/im/pictures/55162426/6016bc16_original.jpg?aki_policy=small'\n",
      " 'https://a0.muscache.com/im/pictures/7fbe448c-5293-4a22-a83e-54c8bc1bbf0d.jpg?aki_policy=small'\n",
      " 'https://a0.muscache.com/im/pictures/b3971b63-06d9-4417-86ca-e6b40c22edca.jpg?aki_policy=small']\n"
     ]
    }
   ],
   "source": [
    "# Drop\n",
    "print(df['thumbnail_url'].unique())"
   ]
  },
  {
   "cell_type": "code",
   "execution_count": 153,
   "id": "9bf4ef45",
   "metadata": {},
   "outputs": [
    {
     "name": "stdout",
     "output_type": "stream",
     "text": [
      "['11201' '10019' '10027' '10009.0' '10002' '11226.0' '11212.0' '11411.0'\n",
      " '11374' '10016' '11225' '11212' '11211.0' '10003.0' '10021' '11237'\n",
      " '11233' '10001.0' '11249.0' '10037' '10011' '10011.0' '10032' '10022'\n",
      " '11226' '11217' '10031' '10014' '11101' '10029.0' '11221' nan '10025'\n",
      " '10013' '10040' '10039' '10038' '10003' '11219' '11222' '11238' '11206'\n",
      " '11223' '11355' '11220' '10036' '10024' '10012' '10044' '10023' '10028'\n",
      " '10473.0' '11249' '11238.0' '11232' '10010' '10002.0' '11377' '11216'\n",
      " '10128' '11207' '11213' '11215' '11229' '11216.0' '10314' '10075' '11385'\n",
      " '10282' '10035.0' '11218' '11378' '11692' '11230' '10065' '11205' '11209'\n",
      " '11237.0' '11225.0' '11213.0' '11206.0' '11105' '10034' '10030' '10005'\n",
      " '10475' '11231.0' '11103' '10017' '11102' '11361' '10455' '11428' '10033'\n",
      " '11370.0' '11234.0' '11211' '10305' '11354' '11205.0' '11204' '11372'\n",
      " '11207.0' '10314.0' '10466' '11417' '10004' '10026' '11236.0' '10035'\n",
      " '11201.0' '11412' '10006' '11234' '10468' '10018' '11203.0' '10301'\n",
      " '10304' '11373' '10453' '11106' '11104' '10457.0' '11210' '10304.0'\n",
      " '11433' '11231' '10456.0' '11421' '10001' '10474' '11367' '10452'\n",
      " '11233.0' '11222.0' '11419' '11379' '10463' '10306' '11434' '11416'\n",
      " '10310' '11426' '11228' '10013.0' '11208.0' '11221.0' '11235' '11361.0'\n",
      " '11369.0' '11109' '11228.0' '10465' '10009' '11418' '10010.0' '99135'\n",
      " '11364' '10003-8623' '11693' '11691' '11435' '07306' '11413' '10037.0'\n",
      " '11373.0' '11415' '10460' '10014.0' '10464' '11224.0' '10456' '11436'\n",
      " '11214' '11429' '11368.0' '10027.0' '10470' '10471' '10463.0' '10469'\n",
      " '10462' '11360' '10029' '11375' '10461' '10451.0' '11203' '11365' '10459'\n",
      " '11414' '10007' '11210.0' '11356.0' '11422' '11217.0' '11432' '11358'\n",
      " '10038.0' '11368' '10026.0' '11370' '10280' '10472' '11219.0' '10281'\n",
      " '10312.0' '10453.0' '10454' '10301.0' '10459.0' '10458' '10452.0'\n",
      " '10119.0' '10471.0' '10069' '10048' '10036.0' '10305.0' '10467.0' '10467'\n",
      " '11224' '11420' '10025.0' '11427' '11580.0' '10457' '10475.0' '10451'\n",
      " '10128.0' '10019.0' '10065.0' '11694' '10312' '10129.0' '10018.0' '10303'\n",
      " '10460.0' '11103-3233' '11106.0' '10106' '10302' '10473' '10000'\n",
      " '11385-2308' '10118' '11236' '11366' '11004' '10030.0' '10550.0'\n",
      " '11249\\r\\r\\r\\r\\r\\r\\n11249' '10308' '11004.0' '11426-1175' '11357'\n",
      " '11379.0' '10270' '11374.0' '11423' '11362.0' '10016.0' '10129' '11372.0'\n",
      " '10307' '11377.0' '10002-2289' '11363.0' '11220.0' '11362' '11694.0'\n",
      " '10307.0' '7302.0' '10007.0' '10279' '10704' '1m' '11209.0' '11509.0'\n",
      " '11412.0' '11001' '11411' '11429.0' '10308.0' '10162' '11215.0' '10004.0'\n",
      " '10309' '10282.0' '11239.0' '10012.0']\n"
     ]
    }
   ],
   "source": [
    "# Clean to only 5 digit numbers\n",
    "print(df['zipcode'].unique())"
   ]
  },
  {
   "cell_type": "code",
   "execution_count": 154,
   "id": "668e2aed",
   "metadata": {},
   "outputs": [
    {
     "name": "stdout",
     "output_type": "stream",
     "text": [
      "[ 1.  3.  2.  0.  4.  5.  7. nan  6. 10.  8.  9.]\n"
     ]
    }
   ],
   "source": [
    "# Drop NaN\n",
    "print(df['bedrooms'].unique())"
   ]
  },
  {
   "cell_type": "code",
   "execution_count": 155,
   "id": "b426c47f",
   "metadata": {},
   "outputs": [
    {
     "name": "stdout",
     "output_type": "stream",
     "text": [
      "[ 1.  3.  2.  6.  4.  5. nan  7.  8. 10. 13.  9. 12. 16. 11.  0. 15. 18.]\n"
     ]
    }
   ],
   "source": [
    "# Drop NaN's\n",
    "print(df['beds'].unique())"
   ]
  },
  {
   "cell_type": "code",
   "execution_count": null,
   "id": "852a8a00",
   "metadata": {},
   "outputs": [],
   "source": []
  },
  {
   "cell_type": "code",
   "execution_count": 156,
   "id": "a2179887",
   "metadata": {},
   "outputs": [],
   "source": [
    "################# Cleaning ###########################"
   ]
  },
  {
   "cell_type": "code",
   "execution_count": null,
   "id": "2aab1eba",
   "metadata": {},
   "outputs": [],
   "source": []
  },
  {
   "cell_type": "code",
   "execution_count": 157,
   "id": "698ab07d",
   "metadata": {},
   "outputs": [],
   "source": [
    "# Take only neccessary columns\n",
    "df = df[['log_price', 'property_type', 'room_type', 'amenities',\n",
    "       'accommodates', 'bathrooms', 'bed_type', 'cancellation_policy',\n",
    "       'cleaning_fee', 'host_identity_verified', 'host_response_rate',\n",
    "       'host_since', 'instant_bookable', 'latitude',\n",
    "       'longitude', 'number_of_reviews', 'review_scores_rating',\n",
    "        'zipcode', 'bedrooms', 'beds']]"
   ]
  },
  {
   "cell_type": "code",
   "execution_count": 158,
   "id": "67c3338e",
   "metadata": {},
   "outputs": [],
   "source": [
    "# FUNCTION one_hot_encode\n",
    "# one_hot_encodes the dataframe for a given column\n",
    "def one_hot_encode(dataframe, column, pre_name = \"\"):\n",
    "    unique_vals = dataframe[column].unique()\n",
    "    \n",
    "    # Create a one_hot_encoding for each unique value in the column\n",
    "    for val in unique_vals:\n",
    "        orig_num_values = len(dataframe[dataframe[column] == val])\n",
    "        \n",
    "        column_name = pre_name + val\n",
    "        dataframe[column_name] = dataframe[column].apply(lambda value: 1 if value == val else 0)\n",
    "        \n",
    "        new_num_values = len(dataframe[dataframe[column_name] == 1])\n",
    "        \n",
    "        # Ensures the new number of values matches the old, such that no values are errased in the process\n",
    "        assert(orig_num_values == new_num_values)\n",
    "    return dataframe"
   ]
  },
  {
   "cell_type": "code",
   "execution_count": null,
   "id": "33c829b9",
   "metadata": {},
   "outputs": [],
   "source": []
  },
  {
   "cell_type": "code",
   "execution_count": 159,
   "id": "04195396",
   "metadata": {
    "scrolled": false
   },
   "outputs": [],
   "source": [
    "# FUNCTION create_amenities_list\n",
    "# Only needs to be run to find all unique amenities\n",
    "def create_amenities_list(dataframe, column = 'amenities'):\n",
    "    all_amenities = []\n",
    "    \n",
    "    for i, amenities_str in dataframe[column].items():\n",
    "        amenities_list = [item.strip().strip('\"') for item in amenities_str.strip('{}').split(',')]\n",
    "        amenities_list = amenities_list[:-1]\n",
    "        \n",
    "        # Append to all_amenities to build the set of all unique amenities\n",
    "        all_amenities.extend(amenities_list)\n",
    "        \n",
    "        # Replace the original string in the DataFrame with the parsed list\n",
    "        dataframe.at[i, column] = amenities_list\n",
    "\n",
    "    # Return unique amenities if needed\n",
    "    return list(set(all_amenities))\n",
    "\n",
    "# Call the function\n",
    "# amen = create_amenities_list(df)\n",
    "#print(amen)"
   ]
  },
  {
   "cell_type": "code",
   "execution_count": 160,
   "id": "e7cc5c8a",
   "metadata": {},
   "outputs": [
    {
     "name": "stdout",
     "output_type": "stream",
     "text": [
      "Index(['log_price', 'property_type', 'room_type', 'amenities', 'accommodates',\n",
      "       'bathrooms', 'bed_type', 'cancellation_policy', 'cleaning_fee',\n",
      "       'host_identity_verified', 'host_response_rate', 'host_since',\n",
      "       'instant_bookable', 'latitude', 'longitude', 'number_of_reviews',\n",
      "       'review_scores_rating', 'zipcode', 'bedrooms', 'beds', 'Waterfront',\n",
      "       'Washer / Dryer', 'Pets allowed', 'Wireless Internet',\n",
      "       'Air conditioning', 'Family/kid friendly', 'Dishwasher', 'Kitchen',\n",
      "       'Beachfront', 'Heating', 'TV', 'Pool'],\n",
      "      dtype='object')\n"
     ]
    }
   ],
   "source": [
    "# Desired unique amenities:\n",
    "desired_unique_amenities = ['Waterfront', 'Washer / Dryer', 'Pets allowed', 'Wireless Internet', \n",
    " 'Air conditioning', 'Family/kid friendly', 'Dishwasher', 'Kitchen', \n",
    " 'Beachfront', 'Heating', 'TV', 'Pool']\n",
    "\n",
    "# FUNCTION amenities_one_hot\n",
    "# Performs one hot on the amenities column\n",
    "def amenities_one_hot(dataframe, desired_amenities, column='amenities'):\n",
    "    # Initialize new columns for each desired amenity with a default value of 0\n",
    "    for amenity in desired_amenities:\n",
    "        dataframe[amenity] = 0\n",
    "\n",
    "    # Use apply to set the value of each amenity column to 1 if it's in the list of amenities for that row\n",
    "    def set_amenity_flags(amenities_list):\n",
    "        for amenity in amenities_list:\n",
    "            if amenity in desired_amenities:\n",
    "                dataframe.loc[dataframe.index, amenity] = 1\n",
    "    \n",
    "    dataframe[column].apply(set_amenity_flags)\n",
    "    \n",
    "    return dataframe\n",
    "\n",
    "df = amenities_one_hot(df, desired_unique_amenities)\n",
    "\n",
    "print(df.columns)"
   ]
  },
  {
   "cell_type": "code",
   "execution_count": 161,
   "id": "74b67df8",
   "metadata": {},
   "outputs": [],
   "source": [
    "# FUNCTION boolean_encode\n",
    "# Encodes boolean with True = 1, False = 0\n",
    "def boolean_encode(dataframe, column, t = 't'):\n",
    "    # Drop NaN values\n",
    "    dataframe = dataframe.dropna(subset=[column])\n",
    "    \n",
    "    dataframe[column] = dataframe[column].apply(lambda value: 1 if value == True or value == t else 0)\n",
    "    \n",
    "    return dataframe"
   ]
  },
  {
   "cell_type": "code",
   "execution_count": 162,
   "id": "2ef500e8",
   "metadata": {},
   "outputs": [],
   "source": [
    "# FUNCTION fix_host_response_rate\n",
    "# Fixes the string percentages into doubles\n",
    "def fix_host_response_rate(dataframe, column = 'host_response_rate'):\n",
    "    dataframe = dataframe.dropna(subset=[column])\n",
    "    \n",
    "    dataframe[column] = dataframe[column].str.replace('%', '', regex=False).astype(float) / 100\n",
    "    \n",
    "    return dataframe"
   ]
  },
  {
   "cell_type": "code",
   "execution_count": 163,
   "id": "0c1a3df9",
   "metadata": {},
   "outputs": [],
   "source": [
    "# FUNCTION find_num_years_hosting\n",
    "# Finds the number of years a host has been hosting\n",
    "def find_num_years_hosting(dataframe, column = 'host_since'):\n",
    "    dataframe[column] = pd.to_datetime(dataframe[column])\n",
    "    current_year = datetime.now().year\n",
    "    \n",
    "    dataframe['num_years_hosting'] = current_year - dataframe[column].dt.year\n",
    "    \n",
    "    dataframe.drop(columns=[column], inplace=True)\n",
    "\n",
    "    return dataframe"
   ]
  },
  {
   "cell_type": "code",
   "execution_count": 164,
   "id": "8a692056",
   "metadata": {},
   "outputs": [],
   "source": [
    "def haversine(lat1, lon1, lat2, lon2):\n",
    "    R = 6371.0  # Radius of the Earth in kilometers\n",
    "    dlat = math.radians(lat2 - lat1)\n",
    "    dlon = math.radians(lon2 - lon1)\n",
    "    a = math.sin(dlat / 2) ** 2 + math.cos(math.radians(lat1)) * math.cos(math.radians(lat2)) * math.sin(dlon / 2) ** 2\n",
    "    c = 2 * math.atan2(math.sqrt(a), math.sqrt(1 - a))\n",
    "    distance = R * c  # Distance in kilometers\n",
    "    return distance\n",
    "\n",
    "# FUNCTION find_distance_to_landmarks\n",
    "# Finds the distance from an air_bnb to each landmark\n",
    "def find_distance_to_landmarks(dataframe, landmarks, lat_column='latitude', lon_column='longitude'):\n",
    "    # Iterate through landmarks\n",
    "    for landmark in landmarks:\n",
    "        column_name = \"distance_to_\" + landmark[0]\n",
    "        \n",
    "        # Calculate distance to each landmark for each row in the DataFrame\n",
    "        distances = []\n",
    "        for index, row in dataframe.iterrows():\n",
    "            distance = haversine(row[lat_column], row[lon_column], landmark[1], landmark[2])\n",
    "            distances.append(distance)\n",
    "        \n",
    "        # Assign distances to the new column in the DataFrame\n",
    "        dataframe[column_name] = distances\n",
    "\n",
    "    return dataframe"
   ]
  },
  {
   "cell_type": "code",
   "execution_count": 165,
   "id": "b58c6d67",
   "metadata": {},
   "outputs": [],
   "source": [
    "# FUNCTION fix_zip_codes\n",
    "# Function to remove any rows where the 'zipcode' column has more \n",
    "# than five chars\n",
    "def fix_zip_codes(dataframe, column='zipcode'):\n",
    "    dataframe = dataframe.dropna(subset=[column])\n",
    "    dataframe = dataframe[dataframe[column].str.len() <= 5]\n",
    "    \n",
    "    return dataframe"
   ]
  },
  {
   "cell_type": "code",
   "execution_count": null,
   "id": "b85c2c90",
   "metadata": {},
   "outputs": [],
   "source": []
  },
  {
   "cell_type": "code",
   "execution_count": 166,
   "id": "4b017480",
   "metadata": {},
   "outputs": [],
   "source": [
    "#####################################################\n",
    "# EXECUTION\n",
    "#####################################################"
   ]
  },
  {
   "cell_type": "code",
   "execution_count": null,
   "id": "b75ad533",
   "metadata": {},
   "outputs": [],
   "source": []
  },
  {
   "cell_type": "code",
   "execution_count": 167,
   "id": "98202914",
   "metadata": {},
   "outputs": [],
   "source": [
    "######################################################\n",
    "# ONE HOT ENCODINGS\n",
    "######################################################\n",
    "# One-hot-encode 'property_type'\n",
    "df = one_hot_encode(df, 'property_type')\n",
    "\n",
    "# One-hot-encode 'room_type'\n",
    "df = one_hot_encode(df, 'room_type')\n",
    "\n",
    "# One-hot-encode bed_type\n",
    "df = one_hot_encode(df, 'bed_type')\n",
    "\n",
    "#One-hot-encode cancellation_policy\n",
    "df = one_hot_encode(df, 'cancellation_policy', pre_name = 'cancellation_policy_')\n",
    "######################################################"
   ]
  },
  {
   "cell_type": "code",
   "execution_count": 168,
   "id": "c030ed7b",
   "metadata": {},
   "outputs": [
    {
     "name": "stderr",
     "output_type": "stream",
     "text": [
      "C:\\Users\\roman\\AppData\\Local\\Temp\\ipykernel_22484\\3017023220.py:7: SettingWithCopyWarning: \n",
      "A value is trying to be set on a copy of a slice from a DataFrame.\n",
      "Try using .loc[row_indexer,col_indexer] = value instead\n",
      "\n",
      "See the caveats in the documentation: https://pandas.pydata.org/pandas-docs/stable/user_guide/indexing.html#returning-a-view-versus-a-copy\n",
      "  dataframe[column] = dataframe[column].apply(lambda value: 1 if value == True or value == t else 0)\n"
     ]
    }
   ],
   "source": [
    "######################################################\n",
    "# BOOLEAN ENCODINGS\n",
    "######################################################\n",
    "# One-hot-encode 'cleaning_fee'\n",
    "df = boolean_encode(df, 'cleaning_fee')\n",
    "\n",
    "# One-hot-encode 'host_identity_verified'\n",
    "df = boolean_encode(df, 'host_identity_verified')\n",
    "\n",
    "df = boolean_encode(df, 'instant_bookable')\n",
    "######################################################"
   ]
  },
  {
   "cell_type": "code",
   "execution_count": 169,
   "id": "f0ead0ec",
   "metadata": {},
   "outputs": [
    {
     "name": "stderr",
     "output_type": "stream",
     "text": [
      "C:\\Users\\roman\\AppData\\Local\\Temp\\ipykernel_22484\\4204321114.py:6: SettingWithCopyWarning: \n",
      "A value is trying to be set on a copy of a slice from a DataFrame.\n",
      "Try using .loc[row_indexer,col_indexer] = value instead\n",
      "\n",
      "See the caveats in the documentation: https://pandas.pydata.org/pandas-docs/stable/user_guide/indexing.html#returning-a-view-versus-a-copy\n",
      "  dataframe[column] = dataframe[column].str.replace('%', '', regex=False).astype(float) / 100\n"
     ]
    }
   ],
   "source": [
    "######################################################\n",
    "# fix host_response rate\n",
    "######################################################\n",
    "df = fix_host_response_rate(df)\n",
    "######################################################"
   ]
  },
  {
   "cell_type": "code",
   "execution_count": 170,
   "id": "ef19a960",
   "metadata": {},
   "outputs": [],
   "source": [
    "######################################################\n",
    "# Find number of years a host has been hosting\n",
    "######################################################\n",
    "df = find_num_years_hosting(df)\n",
    "######################################################"
   ]
  },
  {
   "cell_type": "code",
   "execution_count": 171,
   "id": "edaf1efe",
   "metadata": {},
   "outputs": [],
   "source": [
    "landmarks = [('Times_Square', 40.758896, -73.985130), \n",
    "             ('Empire_State_Building', 40.7484, -73.9857),\n",
    "             ('Statue_of_Liberty', 40.6892, -74.0445),\n",
    "             ('Central_Park',40.7826, -73.9656),\n",
    "             ('JFK_Airport', 40.6446, -73.7797)]\n",
    "\n",
    "######################################################\n",
    "# Find the distance of each airBnB to every landmark in\n",
    "# kilometers\n",
    "######################################################\n",
    "df = find_distance_to_landmarks(df, landmarks)\n",
    "######################################################"
   ]
  },
  {
   "cell_type": "code",
   "execution_count": 172,
   "id": "398e1141",
   "metadata": {},
   "outputs": [],
   "source": [
    "df = fix_zip_codes(df)\n",
    "\n",
    "######################################################\n",
    "# Drop all rows where 'zipcode' has more than five chars\n",
    "######################################################\n",
    "df = fix_zip_codes(df)\n",
    "######################################################"
   ]
  },
  {
   "cell_type": "code",
   "execution_count": 182,
   "id": "5cba1a13",
   "metadata": {},
   "outputs": [],
   "source": [
    "# Drop rows with NaN's in bedrooms, beds, accommodates, or log_price columns\n",
    "df = df.dropna(subset=['bedrooms', 'beds', 'accommodates', 'log_price'])"
   ]
  },
  {
   "cell_type": "code",
   "execution_count": 183,
   "id": "9f673c4c",
   "metadata": {},
   "outputs": [
    {
     "name": "stdout",
     "output_type": "stream",
     "text": [
      "16270\n"
     ]
    }
   ],
   "source": [
    "print(len(df))"
   ]
  },
  {
   "cell_type": "code",
   "execution_count": 184,
   "id": "d1e49c43",
   "metadata": {},
   "outputs": [
    {
     "name": "stdout",
     "output_type": "stream",
     "text": [
      "Index(['log_price', 'property_type', 'room_type', 'amenities', 'accommodates',\n",
      "       'bathrooms', 'bed_type', 'cancellation_policy', 'cleaning_fee',\n",
      "       'host_identity_verified', 'host_response_rate', 'instant_bookable',\n",
      "       'latitude', 'longitude', 'number_of_reviews', 'review_scores_rating',\n",
      "       'zipcode', 'bedrooms', 'beds', 'Waterfront', 'Washer / Dryer',\n",
      "       'Pets allowed', 'Wireless Internet', 'Air conditioning',\n",
      "       'Family/kid friendly', 'Dishwasher', 'Kitchen', 'Beachfront', 'Heating',\n",
      "       'TV', 'Pool', 'Apartment', 'House', 'Loft', 'Hostel', 'Condominium',\n",
      "       'Townhouse', 'Other', 'Bed & Breakfast', 'Timeshare',\n",
      "       'Serviced apartment', 'Guesthouse', 'Bungalow', 'Boutique hotel',\n",
      "       'Guest suite', 'Boat', 'Villa', 'Dorm', 'Vacation home', 'In-law',\n",
      "       'Chalet', 'Yurt', 'Cabin', 'Tent', 'Earth House', 'Castle',\n",
      "       'Entire home/apt', 'Private room', 'Shared room', 'Real Bed', 'Futon',\n",
      "       'Pull-out Sofa', 'Airbed', 'Couch', 'cancellation_policy_strict',\n",
      "       'cancellation_policy_moderate', 'cancellation_policy_flexible',\n",
      "       'cancellation_policy_super_strict_30',\n",
      "       'cancellation_policy_super_strict_60', 'num_years_hosting',\n",
      "       'distance_to_Times_Square', 'distance_to_Empire_State_Building',\n",
      "       'distance_to_Statue_of_Liberty', 'distance_to_Central_Park',\n",
      "       'distance_to_JFK_Airport'],\n",
      "      dtype='object')\n"
     ]
    }
   ],
   "source": [
    "print(df.columns)"
   ]
  },
  {
   "cell_type": "code",
   "execution_count": null,
   "id": "f3da4783",
   "metadata": {},
   "outputs": [],
   "source": []
  },
  {
   "cell_type": "code",
   "execution_count": 186,
   "id": "a098f195",
   "metadata": {},
   "outputs": [],
   "source": [
    "df.to_csv('data_for_KNN.csv', index = False)"
   ]
  },
  {
   "cell_type": "code",
   "execution_count": null,
   "id": "d000685f",
   "metadata": {},
   "outputs": [],
   "source": []
  }
 ],
 "metadata": {
  "kernelspec": {
   "display_name": "Python 3 (ipykernel)",
   "language": "python",
   "name": "python3"
  },
  "language_info": {
   "codemirror_mode": {
    "name": "ipython",
    "version": 3
   },
   "file_extension": ".py",
   "mimetype": "text/x-python",
   "name": "python",
   "nbconvert_exporter": "python",
   "pygments_lexer": "ipython3",
   "version": "3.9.13"
  }
 },
 "nbformat": 4,
 "nbformat_minor": 5
}
