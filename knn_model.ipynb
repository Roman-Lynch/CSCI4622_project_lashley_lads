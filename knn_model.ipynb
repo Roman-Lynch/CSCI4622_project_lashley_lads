{
 "cells": [
  {
   "cell_type": "code",
   "execution_count": 1,
   "metadata": {},
   "outputs": [],
   "source": [
    "from sklearn import linear_model\n",
    "from sklearn.preprocessing import StandardScaler\n",
    "import numpy as np\n",
    "import matplotlib.pyplot as plt\n",
    "import pandas as pd\n",
    "%matplotlib inline"
   ]
  },
  {
   "cell_type": "code",
   "execution_count": 2,
   "metadata": {},
   "outputs": [],
   "source": [
    "\"\"\"\n",
    "Ingest XLS data into dataframes to train and test on\n",
    "\"\"\"\n",
    "def load_data(filepath, target_column):\n",
    "    df = pd.read_csv(filepath)\n",
    "    \n",
    "    X = df.drop(columns=[target_column])\n",
    "    y = df[target_column]\n",
    "    \n",
    "    return X, y\n",
    "\n",
    "train_filepath = \"data_for_KNN_train.csv\"\n",
    "test_filepath = \"data_for_KNN_test.csv\"    \n",
    "target_column = \"log_price\" \n",
    "\n",
    "X_train, y_train = load_data(train_filepath, target_column)\n",
    "X_test, y_test = load_data(test_filepath, target_column)\n",
    "X_train = X_train.replace('1m', np.nan).fillna(0.5).astype(float)\n",
    "X_test = X_test.replace('1m', np.nan).fillna(0.5).astype(float)\n"
   ]
  },
  {
   "cell_type": "code",
   "execution_count": 3,
   "metadata": {},
   "outputs": [],
   "source": [
    "from sklearn.preprocessing import StandardScaler\n",
    "from sklearn.neighbors import KNeighborsRegressor\n",
    "import numpy as np\n",
    "import matplotlib.pyplot as plt\n",
    "\n",
    "class KNNRegressor(object):\n",
    "    def __init__(self, n_neighbors=5, normalize=False):\n",
    "        self.n_neighbors = n_neighbors\n",
    "        self.model = KNeighborsRegressor(n_neighbors=n_neighbors)\n",
    "        self.normalize = normalize\n",
    "        self.scaler = StandardScaler()\n",
    "\n",
    "    def fit(self, X, y):\n",
    "        if self.normalize:\n",
    "            X = self.scaler.fit_transform(X)\n",
    "        self.model.fit(X, y)\n",
    "\n",
    "    def evaluate(self, X, y):\n",
    "        if self.normalize:\n",
    "            X = self.scaler.transform(X)\n",
    "        \n",
    "        pred = self.model.predict(X)\n",
    "        rmse = np.sqrt(np.mean((pred - y) ** 2))\n",
    "        return rmse\n"
   ]
  },
  {
   "cell_type": "code",
   "execution_count": 4,
   "metadata": {},
   "outputs": [
    {
     "data": {
      "image/png": "[encoded data removed]",
      "text/plain": [
       "<Figure size 720x432 with 1 Axes>"
      ]
     },
     "metadata": {
      "needs_background": "light"
     },
     "output_type": "display_data"
    },
    {
     "name": "stdout",
     "output_type": "stream",
     "text": [
      "Minimum error normalized for n_neighbors 20: 0.3823545171852598\n"
     ]
    }
   ],
   "source": [
    "from sklearn.preprocessing import StandardScaler\n",
    "import matplotlib.pyplot as plt\n",
    "import numpy as np\n",
    "\n",
    "scaler = StandardScaler()\n",
    "X_train_scaled = scaler.fit_transform(X_train)\n",
    "X_test_scaled = scaler.transform(X_test)\n",
    "\n",
    "neighbors_range = [1, 3, 5, 7, 10, 15, 20]\n",
    "RMSE_normalized = []\n",
    "\n",
    "best_n_neighbors_norm = 0\n",
    "normalized_min_rmse = np.inf\n",
    "\n",
    "for n_neighbors in neighbors_range:\n",
    "    knn_object_normalized = KNNRegressor(n_neighbors=n_neighbors, normalize=True)\n",
    "    knn_object_normalized.fit(X_train_scaled, y_train) \n",
    "    rmse_normalized = knn_object_normalized.evaluate(X_test_scaled, y_test) \n",
    "    RMSE_normalized.append(rmse_normalized)\n",
    "\n",
    "    if rmse_normalized < normalized_min_rmse:\n",
    "        normalized_min_rmse = rmse_normalized\n",
    "        best_n_neighbors_norm = n_neighbors\n",
    "\n",
    "plt.figure(figsize=(10, 6))\n",
    "# plt.ylim(0, max(RMSE_normalized) * 1.1)\n",
    "plt.plot(neighbors_range, RMSE_normalized, label=\"Normalized\", marker='o')\n",
    "plt.title('RMSE vs. Number of Neighbors for Normalized KNN')\n",
    "plt.xlabel('Number of Neighbors')\n",
    "plt.ylabel('RMSE')\n",
    "plt.legend()\n",
    "plt.grid(True)\n",
    "plt.tight_layout()\n",
    "plt.show()\n",
    "\n",
    "print(f\"Minimum error normalized for n_neighbors {best_n_neighbors_norm}: {normalized_min_rmse}\")\n"
   ]
  },
  {
   "cell_type": "code",
   "execution_count": null,
   "metadata": {},
   "outputs": [],
   "source": [
    "def load_data(filepath, target_column):\n",
    "    df = pd.read_csv(filepath)\n",
    "    \n",
    "    X = df.drop(columns=[target_column])\n",
    "    y = df[target_column]\n",
    "    \n",
    "    return X, y\n",
    "\n",
    "train_filepath = \"data_for_KNN_train.csv\"\n",
    "test_filepath = \"data_for_KNN_test.csv\"    \n",
    "target_column = \"log_price\" \n",
    "\n",
    "X_train, y_train = load_data(train_filepath, target_column)\n",
    "X_test, y_test = load_data(test_filepath, target_column)\n",
    "X_train = X_train.replace('1m', np.nan).fillna(0.5).astype(float)\n",
    "X_test = X_test.replace('1m', np.nan).fillna(0.5).astype(float)"
   ]
  },
  {
   "cell_type": "code",
   "execution_count": 6,
   "metadata": {},
   "outputs": [
    {
     "name": "stdout",
     "output_type": "stream",
     "text": [
      "RMSE: 0.3997655928388764\n"
     ]
    }
   ],
   "source": [
    "from sklearn.preprocessing import StandardScaler\n",
    "from sklearn.neighbors import KNeighborsRegressor\n",
    "from sklearn.metrics import mean_squared_error\n",
    "import numpy as np\n",
    "\n",
    "scaler = StandardScaler()\n",
    "\n",
    "X_train_scaled = scaler.fit_transform(X_train)\n",
    "X_test_scaled = scaler.transform(X_test)\n",
    "\n",
    "knn = KNeighborsRegressor(n_neighbors=5) \n",
    "knn.fit(X_train_scaled, y_train)\n",
    "\n",
    "y_pred = knn.predict(X_test_scaled)\n",
    "\n",
    "rmse = np.sqrt(mean_squared_error(y_test, y_pred))\n",
    "print(f'RMSE: {rmse}')"
   ]
  },
  {
   "cell_type": "code",
   "execution_count": null,
   "metadata": {},
   "outputs": [],
   "source": []
  }
 ],
 "metadata": {
  "kernelspec": {
   "display_name": "Python 3",
   "language": "python",
   "name": "python3"
  },
  "language_info": {
   "codemirror_mode": {
    "name": "ipython",
    "version": 3
   },
   "file_extension": ".py",
   "mimetype": "text/x-python",
   "name": "python",
   "nbconvert_exporter": "python",
   "pygments_lexer": "ipython3",
   "version": "3.9.7"
  }
 },
 "nbformat": 4,
 "nbformat_minor": 2
}
